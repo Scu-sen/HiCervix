{
 "cells": [
  {
   "cell_type": "markdown",
   "id": "7dbd109f",
   "metadata": {},
   "source": [
    "### Import packages"
   ]
  },
  {
   "cell_type": "code",
   "execution_count": 1,
   "id": "cefb7412",
   "metadata": {},
   "outputs": [],
   "source": [
    "import torch\n",
    "import torch.nn as nn\n",
    "from torchvision.models.feature_extraction import get_graph_node_names\n",
    "\n",
    "from models.pim_module.pim_module import PluginMoodel"
   ]
  },
  {
   "cell_type": "markdown",
   "id": "27338b6f",
   "metadata": {},
   "source": [
    "### costom model"
   ]
  },
  {
   "cell_type": "code",
   "execution_count": 2,
   "id": "136f4006",
   "metadata": {},
   "outputs": [],
   "source": [
    "class Model(nn.Module):\n",
    "    \n",
    "    def __init__(self):\n",
    "        super().__init__()\n",
    "        self.conv1 = nn.Sequential(\n",
    "            nn.Conv2d(3, 64, 3, padding=1),\n",
    "            nn.BatchNorm2d(64),\n",
    "            nn.ReLU(),\n",
    "            nn.Conv2d(64, 64, 3, stride=2, padding=1),\n",
    "            nn.BatchNorm2d(64),\n",
    "            nn.ReLU(),\n",
    "        )\n",
    "        self.conv2 = nn.Sequential(\n",
    "            nn.Conv2d(64, 128, 3, padding=1),\n",
    "            nn.BatchNorm2d(128),\n",
    "            nn.ReLU(),\n",
    "            nn.Conv2d(128, 128, 3, stride=2, padding=1),\n",
    "            nn.BatchNorm2d(128),\n",
    "            nn.ReLU()\n",
    "        )\n",
    "        self.pool = nn.AdaptiveAvgPool2d((1, 1))\n",
    "        self.classifier = nn.Linear(128, 10)\n",
    "        \n",
    "    def forward(self, x):\n",
    "        x = self.conv1(x)\n",
    "        x = self.conv2(x)\n",
    "        x = self.pool(x)\n",
    "        x = x.flatten(1)\n",
    "        x = self.classifier(x)\n",
    "        return x"
   ]
  },
  {
   "cell_type": "code",
   "execution_count": 3,
   "id": "efcd0eb6",
   "metadata": {},
   "outputs": [],
   "source": [
    "model = Model()"
   ]
  },
  {
   "cell_type": "markdown",
   "id": "0d27d9ca",
   "metadata": {},
   "source": [
    "### get model name"
   ]
  },
  {
   "cell_type": "code",
   "execution_count": 4,
   "id": "53d7ff7c",
   "metadata": {},
   "outputs": [
    {
     "name": "stdout",
     "output_type": "stream",
     "text": [
      "Model(\n",
      "  (conv1): Sequential(\n",
      "    (0): Conv2d(3, 64, kernel_size=(3, 3), stride=(1, 1), padding=(1, 1))\n",
      "    (1): BatchNorm2d(64, eps=1e-05, momentum=0.1, affine=True, track_running_stats=True)\n",
      "    (2): ReLU()\n",
      "    (3): Conv2d(64, 64, kernel_size=(3, 3), stride=(2, 2), padding=(1, 1))\n",
      "    (4): BatchNorm2d(64, eps=1e-05, momentum=0.1, affine=True, track_running_stats=True)\n",
      "    (5): ReLU()\n",
      "  )\n",
      "  (conv2): Sequential(\n",
      "    (0): Conv2d(64, 128, kernel_size=(3, 3), stride=(1, 1), padding=(1, 1))\n",
      "    (1): BatchNorm2d(128, eps=1e-05, momentum=0.1, affine=True, track_running_stats=True)\n",
      "    (2): ReLU()\n",
      "    (3): Conv2d(128, 128, kernel_size=(3, 3), stride=(2, 2), padding=(1, 1))\n",
      "    (4): BatchNorm2d(128, eps=1e-05, momentum=0.1, affine=True, track_running_stats=True)\n",
      "    (5): ReLU()\n",
      "  )\n",
      "  (pool): AdaptiveAvgPool2d(output_size=(1, 1))\n",
      "  (classifier): Linear(in_features=128, out_features=10, bias=True)\n",
      ")\n"
     ]
    }
   ],
   "source": [
    "print(model) ### structure"
   ]
  },
  {
   "cell_type": "code",
   "execution_count": 5,
   "id": "de5d91fa",
   "metadata": {},
   "outputs": [
    {
     "name": "stdout",
     "output_type": "stream",
     "text": [
      "(['x', 'conv1.0', 'conv1.1', 'conv1.2', 'conv1.3', 'conv1.4', 'conv1.5', 'conv2.0', 'conv2.1', 'conv2.2', 'conv2.3', 'conv2.4', 'conv2.5', 'pool', 'flatten', 'classifier'], ['x', 'conv1.0', 'conv1.1', 'conv1.2', 'conv1.3', 'conv1.4', 'conv1.5', 'conv2.0', 'conv2.1', 'conv2.2', 'conv2.3', 'conv2.4', 'conv2.5', 'pool', 'flatten', 'classifier'])\n"
     ]
    }
   ],
   "source": [
    "print(get_graph_node_names(model))"
   ]
  },
  {
   "cell_type": "markdown",
   "id": "7b3d4bb1",
   "metadata": {},
   "source": [
    "### prepare material to build PluginMoodel"
   ]
  },
  {
   "cell_type": "code",
   "execution_count": 6,
   "id": "4b14b3ff",
   "metadata": {},
   "outputs": [],
   "source": [
    "# if we want conv1 output and conv2 output\n",
    "return_nodes = {\n",
    "    \"conv1.5\":\"layer1\",\n",
    "    \"conv2.5\":\"layer2\",\n",
    "}"
   ]
  },
  {
   "cell_type": "code",
   "execution_count": 7,
   "id": "b169b258",
   "metadata": {},
   "outputs": [],
   "source": [
    "# notice that 'layer1' and 'layer2' must match return_nodes's value\n",
    "num_selects = {\n",
    "    \"layer1\":64, \n",
    "    \"layer2\":64\n",
    "}"
   ]
  },
  {
   "cell_type": "code",
   "execution_count": 8,
   "id": "d3a868a3",
   "metadata": {},
   "outputs": [],
   "source": [
    "IMG_SIZE = 224\n",
    "USE_FPN = True\n",
    "FPN_SIZE = 128 # fpn projection size, if do not use fpn, you can set fpn_size to None"
   ]
  },
  {
   "cell_type": "code",
   "execution_count": 9,
   "id": "3b71c25b",
   "metadata": {},
   "outputs": [],
   "source": [
    "# proj_type : you can choose 'Conv' or 'Linear', 'Conv' is design for 4d image input (resnet, efficientnet, vgg...),\n",
    "# 'Linear' is for 3d image input (Vit, Swin-T...)\n",
    "PROJ_TYPE = \"Conv\""
   ]
  },
  {
   "cell_type": "code",
   "execution_count": 10,
   "id": "054a3c5b",
   "metadata": {},
   "outputs": [],
   "source": [
    "# upsample_type : [\"Bilinear\", \"Conv\", \"Fc\"]\n",
    "# for convolution neural network (e.g. ResNet, EfficientNet), recommand 'Bilinear'. \n",
    "# for Vit, \"Fc\". and Swin-T, \"Conv\"\n",
    "UPSAMPLE_TYPE = \"Bilinear\""
   ]
  },
  {
   "cell_type": "code",
   "execution_count": 11,
   "id": "8313f994",
   "metadata": {},
   "outputs": [],
   "source": [
    "pim_model = \\\n",
    "PluginMoodel(backbone = model,\n",
    "             return_nodes = return_nodes,\n",
    "             img_size = IMG_SIZE,\n",
    "             use_fpn = USE_FPN,\n",
    "             fpn_size = FPN_SIZE,\n",
    "             proj_type = PROJ_TYPE,\n",
    "             upsample_type = UPSAMPLE_TYPE,\n",
    "             use_selection = True,\n",
    "             num_classes = 10,\n",
    "             num_selects = num_selects, \n",
    "             use_combiner = True,\n",
    "             comb_proj_size = None)"
   ]
  },
  {
   "cell_type": "code",
   "execution_count": 12,
   "id": "b93f9062",
   "metadata": {},
   "outputs": [
    {
     "name": "stderr",
     "output_type": "stream",
     "text": [
      "C:\\Users\\Chou\\Anaconda3\\envs\\pytorch\\lib\\site-packages\\torch\\nn\\functional.py:3631: UserWarning: Default upsampling behavior when mode=bilinear is changed to align_corners=False since 0.4.0. Please specify align_corners=True if the old behavior is desired. See the documentation of nn.Upsample for details.\n",
      "  warnings.warn(\n"
     ]
    }
   ],
   "source": [
    "rand_inp = torch.randn(1, 3, 224, 224)\n",
    "outs = pim_model(rand_inp)"
   ]
  },
  {
   "cell_type": "code",
   "execution_count": 13,
   "id": "173f0049",
   "metadata": {},
   "outputs": [
    {
     "name": "stdout",
     "output_type": "stream",
     "text": [
      "['layer1', 'layer2', 'preds_1', 'preds_0', 'comb_outs']\n"
     ]
    }
   ],
   "source": [
    "print([name for name in outs])"
   ]
  },
  {
   "cell_type": "code",
   "execution_count": 14,
   "id": "7f48774e",
   "metadata": {},
   "outputs": [],
   "source": [
    "# 'layer1' : logits of 'layer1' , size [B, num_classes]\n",
    "# 'layer2' : logits of 'layer2' , size [B, num_classes]\n",
    "# 'preds_1'(dict) : logits of selected region, size [B, num_classes]\n",
    "# 'preds_0'(dict) : logits of NOT selected region, size [B, num_classes]\n",
    "# 'comb_outs' : logits of Combiner , size [B, num_classes]"
   ]
  },
  {
   "cell_type": "markdown",
   "id": "5678b51d",
   "metadata": {},
   "source": [
    "### some error raise while get_graph_node_names() or create_feature_extractor()"
   ]
  },
  {
   "cell_type": "code",
   "execution_count": 15,
   "id": "31ff6bbe",
   "metadata": {},
   "outputs": [],
   "source": [
    "### change model"
   ]
  },
  {
   "cell_type": "code",
   "execution_count": 16,
   "id": "1cd7f87e",
   "metadata": {},
   "outputs": [],
   "source": [
    "class Model(nn.Module):\n",
    "    \n",
    "    def __init__(self):\n",
    "        super().__init__()\n",
    "        self.conv1 = nn.Sequential(\n",
    "            nn.Conv2d(3, 64, 3, padding=1),\n",
    "            nn.BatchNorm2d(64),\n",
    "            nn.ReLU(),\n",
    "            nn.Conv2d(64, 64, 3, stride=2, padding=1),\n",
    "            nn.BatchNorm2d(64),\n",
    "            nn.ReLU(),\n",
    "        )\n",
    "        self.conv2 = nn.Sequential(\n",
    "            nn.Conv2d(64, 128, 3, padding=1),\n",
    "            nn.BatchNorm2d(128),\n",
    "            nn.ReLU(),\n",
    "            nn.Conv2d(128, 128, 3, stride=2, padding=1),\n",
    "            nn.BatchNorm2d(128),\n",
    "            nn.ReLU()\n",
    "        )\n",
    "        self.pool = nn.AdaptiveAvgPool2d((1, 1))\n",
    "        self.classifier = nn.Linear(128, 10)\n",
    "        \n",
    "    def forward(self, x):\n",
    "        x1 = self.conv1(x)\n",
    "        x2 = self.conv2(x1)\n",
    "        x = self.pool(x2)\n",
    "        x = x.flatten(1)\n",
    "        x = self.classifier(x)\n",
    "        return {\"layer1\":x1, \"layer2\":x2}"
   ]
  },
  {
   "cell_type": "code",
   "execution_count": 17,
   "id": "4bce0b80",
   "metadata": {},
   "outputs": [],
   "source": [
    "model = Model()"
   ]
  },
  {
   "cell_type": "code",
   "execution_count": 18,
   "id": "9c233716",
   "metadata": {},
   "outputs": [],
   "source": [
    "## set return_nodes to None"
   ]
  },
  {
   "cell_type": "code",
   "execution_count": 19,
   "id": "89c7ea39",
   "metadata": {},
   "outputs": [],
   "source": [
    "pim_model = \\\n",
    "PluginMoodel(backbone = model,\n",
    "             return_nodes = None,\n",
    "             img_size = IMG_SIZE,\n",
    "             use_fpn = USE_FPN,\n",
    "             fpn_size = FPN_SIZE,\n",
    "             proj_type = PROJ_TYPE,\n",
    "             upsample_type = UPSAMPLE_TYPE,\n",
    "             use_selection = True,\n",
    "             num_classes = 10,\n",
    "             num_selects = num_selects, \n",
    "             use_combiner = True,\n",
    "             comb_proj_size = None)"
   ]
  },
  {
   "cell_type": "code",
   "execution_count": 20,
   "id": "95fd924c",
   "metadata": {},
   "outputs": [],
   "source": [
    "rand_inp = torch.randn(1, 3, 224, 224)\n",
    "outs = pim_model(rand_inp)"
   ]
  },
  {
   "cell_type": "code",
   "execution_count": 21,
   "id": "2ec4ac34",
   "metadata": {},
   "outputs": [
    {
     "name": "stdout",
     "output_type": "stream",
     "text": [
      "['layer1', 'layer2', 'preds_1', 'preds_0', 'comb_outs']\n"
     ]
    }
   ],
   "source": [
    "print([name for name in outs])"
   ]
  },
  {
   "cell_type": "code",
   "execution_count": null,
   "id": "a2bc12ee",
   "metadata": {},
   "outputs": [],
   "source": []
  }
 ],
 "metadata": {
  "kernelspec": {
   "display_name": "Python 3",
   "language": "python",
   "name": "python3"
  },
  "language_info": {
   "codemirror_mode": {
    "name": "ipython",
    "version": 3
   },
   "file_extension": ".py",
   "mimetype": "text/x-python",
   "name": "python",
   "nbconvert_exporter": "python",
   "pygments_lexer": "ipython3",
   "version": "3.8.10"
  }
 },
 "nbformat": 4,
 "nbformat_minor": 5
}
